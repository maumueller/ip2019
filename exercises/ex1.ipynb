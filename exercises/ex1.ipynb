{
 "cells": [
  {
   "cell_type": "markdown",
   "metadata": {},
   "source": [
    "# Introduction To Programming\n",
    "\n",
    "## Exercise Sheet 1 (Aug 28)\n",
    "\n",
    "On this exercise sheet, you will work on solving the exercises from the first chapter of the book \"Automate the Boring Stuff with Python\". \n",
    "\n",
    "The main objective of the first exercise is to get Python installed and running. Please use the installation guides that you can find on learnIT for installing Python on your computer. \n",
    "\n",
    "Aftering you have installed Python successfully, continue with the following tasks."
   ]
  },
  {
   "cell_type": "markdown",
   "metadata": {},
   "source": [
    "## Before starting\n",
    "\n",
    "Discuss in your group: \n",
    "- What is an operator, what is a value, what is an expression?\n",
    "- What is a variable used for? What is an assignment statement?\n",
    "\n",
    "Make sure to read the slides or read the first chapter of \"Automate the Boring Stuff\" at https://automatetheboringstuff.com/chapter1/ if you are not sure. \n",
    "\n",
    "If you cannot find an answer or want to check your answer, call a TA. "
   ]
  },
  {
   "cell_type": "markdown",
   "metadata": {},
   "source": [
    "# Theoretial Questions"
   ]
  },
  {
   "cell_type": "markdown",
   "metadata": {},
   "source": [
    "### Question 1\n",
    "\n",
    "Which of the following are operators, and which are values? (Bonus: For each value, specify its type.)\n",
    "\n",
    "- `*`\n",
    "- `'hello'`\n",
    "- `-88.8`\n",
    "- `-`\n",
    "- `/`\n",
    "- `+`\n",
    "- `5`"
   ]
  },
  {
   "cell_type": "markdown",
   "metadata": {},
   "source": [
    "### Question 2\n",
    "\n",
    "Which of the following is a variable, and which is a string?\n",
    "\n",
    "- `spam`\n",
    "- `'spam'`"
   ]
  },
  {
   "cell_type": "markdown",
   "metadata": {},
   "source": [
    "### Question 3\n",
    "\n",
    "Name three data types."
   ]
  },
  {
   "cell_type": "markdown",
   "metadata": {},
   "source": [
    "### Question 4\n",
    "\n",
    "What does an expression consist of? What do all expressions do?\n"
   ]
  },
  {
   "cell_type": "markdown",
   "metadata": {},
   "source": [
    "### Question 5\n",
    "\n",
    "Why is `eggs` a valid variable name while `100` is invalid?"
   ]
  },
  {
   "cell_type": "markdown",
   "metadata": {},
   "source": [
    "# Practical Questions (Good to have Python installed)"
   ]
  },
  {
   "cell_type": "markdown",
   "metadata": {},
   "source": [
    "### Question 6\n",
    "\n",
    "What does the variable `bacon` contain after the following code runs?\n",
    "\n",
    "```python\n",
    "bacon = 20\n",
    "bacon + 1\n",
    "```\n",
    "\n",
    "Hint: Put the code into mu-editor and add `print(bacon)` after the last line to print the content of the variable."
   ]
  },
  {
   "cell_type": "markdown",
   "metadata": {},
   "source": [
    "### Question 7\n",
    "\n",
    "What is the result of the evaluation of the following two expressions?\n",
    "\n",
    "```python\n",
    "'spam' + 'spamspam'\n",
    "\n",
    "'spam' * 3\n",
    "```"
   ]
  },
  {
   "cell_type": "markdown",
   "metadata": {},
   "source": [
    "### Question 8\n",
    "\n",
    "What three functions can be used to get the integer, floating-point number, or string version of a value?"
   ]
  },
  {
   "cell_type": "markdown",
   "metadata": {},
   "source": [
    "### Question 9\n",
    "\n",
    "Put the following code into your Python editor and try to run it. \n",
    "\n",
    "```python\n",
    "'I have eaten ' + 99 + ' burritos.'\n",
    "```\n",
    "\n",
    "Why does this expression cause an error? How can you fix it?"
   ]
  },
  {
   "cell_type": "markdown",
   "metadata": {},
   "source": [
    "# Practical Task\n",
    "\n",
    "1. Open the **Mu editor** from the command line via the command `mu-editor`.\n",
    "2. Write the code below into Mu. Copy the text exactly as given below. Importantly, pay attention to the white space. \n",
    "\n",
    "    You can reproduce the indentation (lines that do not begin directly on the left) either by using four spaces (pressing the space bar on your keyboard four times) or by pressing the tabulator key on your keyboard once. \n",
    "    \n",
    "    Your tabulator key (also called tab key) looks either like this ↹ or like that ⇥ and is located on the upper left side of your keyboard.\n",
    "    \n",
    "    Use the white spaces consistently. That is, either use multiple of four spaces or multiple of one tabs and do not mix them in one file.\n",
    "\n",
    "3. When you are done, press run (▶), save the file as `hangman.py`.\n",
    "4. You will likely get an error, and that is completely okay.\n",
    "Try to find the typo that caused the error and fix it.\n",
    "\n",
    "If you got the program to work, play the game a couple of times. \n",
    "\n",
    "Summarize what the program is doing with a short paragraph of text."
   ]
  },
  {
   "cell_type": "markdown",
   "metadata": {},
   "source": [
    "![Program.png](images/ex1_program.png)"
   ]
  }
 ],
 "metadata": {
  "kernelspec": {
   "display_name": "Python 3",
   "language": "python",
   "name": "python3"
  },
  "language_info": {
   "codemirror_mode": {
    "name": "ipython",
    "version": 3
   },
   "file_extension": ".py",
   "mimetype": "text/x-python",
   "name": "python",
   "nbconvert_exporter": "python",
   "pygments_lexer": "ipython3",
   "version": "3.7.1"
  }
 },
 "nbformat": 4,
 "nbformat_minor": 2
}
